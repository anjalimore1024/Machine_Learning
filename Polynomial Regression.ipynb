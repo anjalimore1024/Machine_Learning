{
 "cells": [
  {
   "cell_type": "markdown",
   "id": "556c5c69",
   "metadata": {},
   "source": [
    "If your data points clearly will not fit a linear regression (a straight line through all data points), it might be ideal for polynomial regression."
   ]
  },
  {
   "cell_type": "code",
   "execution_count": 1,
   "id": "16ac0db5",
   "metadata": {},
   "outputs": [],
   "source": [
    "x = [1,2,3,4,5,6,7,8,9,10,11,12,13,14,15,16,17]\n",
    "y = [100,60,50,60,60,55,60,65,70,70,75,76,78,90,99,99,100]"
   ]
  },
  {
   "cell_type": "code",
   "execution_count": 2,
   "id": "db119e66",
   "metadata": {},
   "outputs": [
    {
     "data": {
      "text/plain": [
       "17"
      ]
     },
     "execution_count": 2,
     "metadata": {},
     "output_type": "execute_result"
    }
   ],
   "source": [
    "len(x)"
   ]
  },
  {
   "cell_type": "code",
   "execution_count": 3,
   "id": "abd77dd6",
   "metadata": {},
   "outputs": [
    {
     "data": {
      "text/plain": [
       "17"
      ]
     },
     "execution_count": 3,
     "metadata": {},
     "output_type": "execute_result"
    }
   ],
   "source": [
    "len(y)"
   ]
  },
  {
   "cell_type": "code",
   "execution_count": 4,
   "id": "b5b897e2",
   "metadata": {},
   "outputs": [],
   "source": [
    "import matplotlib.pyplot as plt\n",
    "import numpy as np"
   ]
  },
  {
   "cell_type": "code",
   "execution_count": 5,
   "id": "02b8b8ba",
   "metadata": {},
   "outputs": [
    {
     "data": {
      "image/png": "[encoded data removed]",
      "text/plain": [
       "<Figure size 432x288 with 1 Axes>"
      ]
     },
     "metadata": {
      "needs_background": "light"
     },
     "output_type": "display_data"
    }
   ],
   "source": [
    "plt.scatter(x,y)\n",
    "plt.show()"
   ]
  },
  {
   "cell_type": "code",
   "execution_count": 6,
   "id": "a1d06414",
   "metadata": {},
   "outputs": [],
   "source": [
    "# to find poly1d (in poly1d give degree is compalsary(3 is degree))\n",
    "y_predicted = np.poly1d(np.polyfit(x,y,3))"
   ]
  },
  {
   "cell_type": "code",
   "execution_count": 7,
   "id": "5b07b572",
   "metadata": {},
   "outputs": [
    {
     "data": {
      "text/plain": [
       "poly1d([-6.15325077e-02,  2.09468524e+00, -1.79320175e+01,  1.00705882e+02])"
      ]
     },
     "execution_count": 7,
     "metadata": {},
     "output_type": "execute_result"
    }
   ],
   "source": [
    "y_predicted"
   ]
  },
  {
   "cell_type": "code",
   "execution_count": 8,
   "id": "bcf9929d",
   "metadata": {},
   "outputs": [
    {
     "data": {
      "text/plain": [
       "array([ 1.        ,  1.10738255,  1.2147651 ,  1.32214765,  1.4295302 ,\n",
       "        1.53691275,  1.6442953 ,  1.75167785,  1.8590604 ,  1.96644295,\n",
       "        2.0738255 ,  2.18120805,  2.2885906 ,  2.39597315,  2.5033557 ,\n",
       "        2.61073826,  2.71812081,  2.82550336,  2.93288591,  3.04026846,\n",
       "        3.14765101,  3.25503356,  3.36241611,  3.46979866,  3.57718121,\n",
       "        3.68456376,  3.79194631,  3.89932886,  4.00671141,  4.11409396,\n",
       "        4.22147651,  4.32885906,  4.43624161,  4.54362416,  4.65100671,\n",
       "        4.75838926,  4.86577181,  4.97315436,  5.08053691,  5.18791946,\n",
       "        5.29530201,  5.40268456,  5.51006711,  5.61744966,  5.72483221,\n",
       "        5.83221477,  5.93959732,  6.04697987,  6.15436242,  6.26174497,\n",
       "        6.36912752,  6.47651007,  6.58389262,  6.69127517,  6.79865772,\n",
       "        6.90604027,  7.01342282,  7.12080537,  7.22818792,  7.33557047,\n",
       "        7.44295302,  7.55033557,  7.65771812,  7.76510067,  7.87248322,\n",
       "        7.97986577,  8.08724832,  8.19463087,  8.30201342,  8.40939597,\n",
       "        8.51677852,  8.62416107,  8.73154362,  8.83892617,  8.94630872,\n",
       "        9.05369128,  9.16107383,  9.26845638,  9.37583893,  9.48322148,\n",
       "        9.59060403,  9.69798658,  9.80536913,  9.91275168, 10.02013423,\n",
       "       10.12751678, 10.23489933, 10.34228188, 10.44966443, 10.55704698,\n",
       "       10.66442953, 10.77181208, 10.87919463, 10.98657718, 11.09395973,\n",
       "       11.20134228, 11.30872483, 11.41610738, 11.52348993, 11.63087248,\n",
       "       11.73825503, 11.84563758, 11.95302013, 12.06040268, 12.16778523,\n",
       "       12.27516779, 12.38255034, 12.48993289, 12.59731544, 12.70469799,\n",
       "       12.81208054, 12.91946309, 13.02684564, 13.13422819, 13.24161074,\n",
       "       13.34899329, 13.45637584, 13.56375839, 13.67114094, 13.77852349,\n",
       "       13.88590604, 13.99328859, 14.10067114, 14.20805369, 14.31543624,\n",
       "       14.42281879, 14.53020134, 14.63758389, 14.74496644, 14.85234899,\n",
       "       14.95973154, 15.06711409, 15.17449664, 15.28187919, 15.38926174,\n",
       "       15.4966443 , 15.60402685, 15.7114094 , 15.81879195, 15.9261745 ,\n",
       "       16.03355705, 16.1409396 , 16.24832215, 16.3557047 , 16.46308725,\n",
       "       16.5704698 , 16.67785235, 16.7852349 , 16.89261745, 17.        ])"
      ]
     },
     "execution_count": 8,
     "metadata": {},
     "output_type": "execute_result"
    }
   ],
   "source": [
    "line = np.linspace(1,17,150)\n",
    "line"
   ]
  },
  {
   "cell_type": "code",
   "execution_count": 9,
   "id": "3ba6b612",
   "metadata": {},
   "outputs": [
    {
     "data": {
      "text/plain": [
       "array([84.80701754, 83.33342355, 81.90342291, 80.51655845, 79.17237304,\n",
       "       77.87040953, 76.61021076, 75.3913196 , 74.21327888, 73.07563147,\n",
       "       71.97792022, 70.91968797, 69.90047758, 68.91983191, 67.97729379,\n",
       "       67.07240609, 66.20471166, 65.37375334, 64.579074  , 63.82021648,\n",
       "       63.09672363, 62.4081383 , 61.75400335, 61.13386164, 60.547256  ,\n",
       "       59.99372929, 59.47282437, 58.98408409, 58.52705129, 58.10126884,\n",
       "       57.70627957, 57.34162635, 57.00685203, 56.70149945, 56.42511147,\n",
       "       56.17723094, 55.95740071, 55.76516364, 55.60006257, 55.46164036,\n",
       "       55.34943987, 55.26300393, 55.2018754 , 55.16559715, 55.153712  ,\n",
       "       55.16576283, 55.20129248, 55.2598438 , 55.34095964, 55.44418286,\n",
       "       55.56905631, 55.71512284, 55.8819253 , 56.06900654, 56.27590942,\n",
       "       56.50217678, 56.74735148, 57.01097638, 57.29259431, 57.59174814,\n",
       "       57.90798071, 58.24083489, 58.58985351, 58.95457943, 59.33455551,\n",
       "       59.72932459, 60.13842953, 60.56141317, 60.99781838, 61.447188  ,\n",
       "       61.90906488, 62.38299188, 62.86851185, 63.36516763, 63.87250209,\n",
       "       64.39005807, 64.91737842, 65.454006  , 65.99948366, 66.55335425,\n",
       "       67.11516062, 67.68444563, 68.26075212, 68.84362295, 69.43260096,\n",
       "       70.02722902, 70.62704997, 71.23160667, 71.84044196, 72.4530987 ,\n",
       "       73.06911974, 73.68804793, 74.30942613, 74.93279718, 75.55770394,\n",
       "       76.18368925, 76.81029598, 77.43706697, 78.06354508, 78.68927315,\n",
       "       79.31379404, 79.9366506 , 80.55738568, 81.17554214, 81.79066282,\n",
       "       82.40229057, 83.00996826, 83.61323873, 84.21164483, 84.80472941,\n",
       "       85.39203533, 85.97310544, 86.54748259, 87.11470962, 87.67432941,\n",
       "       88.22588479, 88.76891861, 89.30297373, 89.82759301, 90.34231929,\n",
       "       90.84669542, 91.34026425, 91.82256865, 92.29315145, 92.75155552,\n",
       "       93.1973237 , 93.62999884, 94.0491238 , 94.45424143, 94.84489458,\n",
       "       95.22062611, 95.58097885, 95.92549567, 96.25371942, 96.56519295,\n",
       "       96.85945912, 97.13606076, 97.39454074, 97.6344419 , 97.85530711,\n",
       "       98.0566792 , 98.23810104, 98.39911547, 98.53926535, 98.65809352,\n",
       "       98.75514284, 98.82995617, 98.88207635, 98.91104623, 98.91640867])"
      ]
     },
     "execution_count": 9,
     "metadata": {},
     "output_type": "execute_result"
    }
   ],
   "source": [
    "model = y_predicted(line)\n",
    "model"
   ]
  },
  {
   "cell_type": "code",
   "execution_count": 10,
   "id": "e7c0dbbb",
   "metadata": {},
   "outputs": [
    {
     "data": {
      "image/png": "[encoded data removed]",
      "text/plain": [
       "<Figure size 432x288 with 1 Axes>"
      ]
     },
     "metadata": {
      "needs_background": "light"
     },
     "output_type": "display_data"
    }
   ],
   "source": [
    "# To plot scatter dia  (logistic regression)\n",
    "plt.scatter(x,y)\n",
    "plt.plot(line,model, color ='m')\n",
    "plt.show()"
   ]
  },
  {
   "cell_type": "code",
   "execution_count": 11,
   "id": "1bf93938",
   "metadata": {},
   "outputs": [
    {
     "data": {
      "text/plain": [
       "array([84.80701754, 72.72832817, 64.1006192 , 58.55469556, 55.72136223,\n",
       "       55.23142415, 56.71568627, 59.80495356, 64.13003096, 69.32172343,\n",
       "       75.01083591, 80.82817337, 86.40454076, 91.37074303, 95.35758514,\n",
       "       97.99587203, 98.91640867])"
      ]
     },
     "execution_count": 11,
     "metadata": {},
     "output_type": "execute_result"
    }
   ],
   "source": [
    "x_predicted = y_predicted(x)\n",
    "x_predicted"
   ]
  },
  {
   "cell_type": "code",
   "execution_count": 12,
   "id": "15e05324",
   "metadata": {},
   "outputs": [],
   "source": [
    "from sklearn.metrics import r2_score"
   ]
  },
  {
   "cell_type": "code",
   "execution_count": 13,
   "id": "868f7145",
   "metadata": {},
   "outputs": [
    {
     "data": {
      "text/plain": [
       "0.8309171620330185"
      ]
     },
     "execution_count": 13,
     "metadata": {},
     "output_type": "execute_result"
    }
   ],
   "source": [
    "# To check score(accuracy) is correct\n",
    "r2_score(y, x_predicted) "
   ]
  },
  {
   "cell_type": "code",
   "execution_count": 14,
   "id": "c445ecef",
   "metadata": {},
   "outputs": [
    {
     "data": {
      "text/plain": [
       "[1, 2, 3, 4, 5, 6, 7, 8, 9, 10, 11, 12, 13, 14, 15, 16, 17]"
      ]
     },
     "execution_count": 14,
     "metadata": {},
     "output_type": "execute_result"
    }
   ],
   "source": [
    "x"
   ]
  },
  {
   "cell_type": "code",
   "execution_count": 15,
   "id": "0f3bf4ef",
   "metadata": {},
   "outputs": [
    {
     "data": {
      "text/plain": [
       "[100, 60, 50, 60, 60, 55, 60, 65, 70, 70, 75, 76, 78, 90, 99, 99, 100]"
      ]
     },
     "execution_count": 15,
     "metadata": {},
     "output_type": "execute_result"
    }
   ],
   "source": [
    "y"
   ]
  },
  {
   "cell_type": "code",
   "execution_count": 16,
   "id": "585ded40",
   "metadata": {},
   "outputs": [],
   "source": [
    "import pandas as pd"
   ]
  },
  {
   "cell_type": "code",
   "execution_count": 17,
   "id": "6e4184fb",
   "metadata": {},
   "outputs": [],
   "source": [
    "from sklearn.preprocessing import PolynomialFeatures"
   ]
  },
  {
   "cell_type": "code",
   "execution_count": 18,
   "id": "4beabc2e",
   "metadata": {},
   "outputs": [
    {
     "data": {
      "text/plain": [
       "0      1\n",
       "1      2\n",
       "2      3\n",
       "3      4\n",
       "4      5\n",
       "5      6\n",
       "6      7\n",
       "7      8\n",
       "8      9\n",
       "9     10\n",
       "10    11\n",
       "11    12\n",
       "12    13\n",
       "13    14\n",
       "14    15\n",
       "15    16\n",
       "16    17\n",
       "Name: Time, dtype: int64"
      ]
     },
     "execution_count": 18,
     "metadata": {},
     "output_type": "execute_result"
    }
   ],
   "source": [
    "s1 = pd.Series(x,name = \"Time\")\n",
    "s1"
   ]
  },
  {
   "cell_type": "code",
   "execution_count": 19,
   "id": "129a8257",
   "metadata": {},
   "outputs": [
    {
     "data": {
      "text/plain": [
       "0     100\n",
       "1      60\n",
       "2      50\n",
       "3      60\n",
       "4      60\n",
       "5      55\n",
       "6      60\n",
       "7      65\n",
       "8      70\n",
       "9      70\n",
       "10     75\n",
       "11     76\n",
       "12     78\n",
       "13     90\n",
       "14     99\n",
       "15     99\n",
       "16    100\n",
       "Name: speed, dtype: int64"
      ]
     },
     "execution_count": 19,
     "metadata": {},
     "output_type": "execute_result"
    }
   ],
   "source": [
    "s2 = pd.Series(y,name = \"speed\")\n",
    "s2"
   ]
  },
  {
   "cell_type": "code",
   "execution_count": 20,
   "id": "932484ad",
   "metadata": {},
   "outputs": [
    {
     "data": {
      "text/html": [
       "<div>\n",
       "<style scoped>\n",
       "    .dataframe tbody tr th:only-of-type {\n",
       "        vertical-align: middle;\n",
       "    }\n",
       "\n",
       "    .dataframe tbody tr th {\n",
       "        vertical-align: top;\n",
       "    }\n",
       "\n",
       "    .dataframe thead th {\n",
       "        text-align: right;\n",
       "    }\n",
       "</style>\n",
       "<table border=\"1\" class=\"dataframe\">\n",
       "  <thead>\n",
       "    <tr style=\"text-align: right;\">\n",
       "      <th></th>\n",
       "      <th>Time</th>\n",
       "      <th>speed</th>\n",
       "    </tr>\n",
       "  </thead>\n",
       "  <tbody>\n",
       "    <tr>\n",
       "      <th>0</th>\n",
       "      <td>1</td>\n",
       "      <td>100</td>\n",
       "    </tr>\n",
       "    <tr>\n",
       "      <th>1</th>\n",
       "      <td>2</td>\n",
       "      <td>60</td>\n",
       "    </tr>\n",
       "    <tr>\n",
       "      <th>2</th>\n",
       "      <td>3</td>\n",
       "      <td>50</td>\n",
       "    </tr>\n",
       "    <tr>\n",
       "      <th>3</th>\n",
       "      <td>4</td>\n",
       "      <td>60</td>\n",
       "    </tr>\n",
       "    <tr>\n",
       "      <th>4</th>\n",
       "      <td>5</td>\n",
       "      <td>60</td>\n",
       "    </tr>\n",
       "    <tr>\n",
       "      <th>5</th>\n",
       "      <td>6</td>\n",
       "      <td>55</td>\n",
       "    </tr>\n",
       "    <tr>\n",
       "      <th>6</th>\n",
       "      <td>7</td>\n",
       "      <td>60</td>\n",
       "    </tr>\n",
       "    <tr>\n",
       "      <th>7</th>\n",
       "      <td>8</td>\n",
       "      <td>65</td>\n",
       "    </tr>\n",
       "    <tr>\n",
       "      <th>8</th>\n",
       "      <td>9</td>\n",
       "      <td>70</td>\n",
       "    </tr>\n",
       "    <tr>\n",
       "      <th>9</th>\n",
       "      <td>10</td>\n",
       "      <td>70</td>\n",
       "    </tr>\n",
       "    <tr>\n",
       "      <th>10</th>\n",
       "      <td>11</td>\n",
       "      <td>75</td>\n",
       "    </tr>\n",
       "    <tr>\n",
       "      <th>11</th>\n",
       "      <td>12</td>\n",
       "      <td>76</td>\n",
       "    </tr>\n",
       "    <tr>\n",
       "      <th>12</th>\n",
       "      <td>13</td>\n",
       "      <td>78</td>\n",
       "    </tr>\n",
       "    <tr>\n",
       "      <th>13</th>\n",
       "      <td>14</td>\n",
       "      <td>90</td>\n",
       "    </tr>\n",
       "    <tr>\n",
       "      <th>14</th>\n",
       "      <td>15</td>\n",
       "      <td>99</td>\n",
       "    </tr>\n",
       "    <tr>\n",
       "      <th>15</th>\n",
       "      <td>16</td>\n",
       "      <td>99</td>\n",
       "    </tr>\n",
       "    <tr>\n",
       "      <th>16</th>\n",
       "      <td>17</td>\n",
       "      <td>100</td>\n",
       "    </tr>\n",
       "  </tbody>\n",
       "</table>\n",
       "</div>"
      ],
      "text/plain": [
       "    Time  speed\n",
       "0      1    100\n",
       "1      2     60\n",
       "2      3     50\n",
       "3      4     60\n",
       "4      5     60\n",
       "5      6     55\n",
       "6      7     60\n",
       "7      8     65\n",
       "8      9     70\n",
       "9     10     70\n",
       "10    11     75\n",
       "11    12     76\n",
       "12    13     78\n",
       "13    14     90\n",
       "14    15     99\n",
       "15    16     99\n",
       "16    17    100"
      ]
     },
     "execution_count": 20,
     "metadata": {},
     "output_type": "execute_result"
    }
   ],
   "source": [
    "# To connect two columns \n",
    "df = pd.concat([s1,s2], axis = 1)\n",
    "df"
   ]
  },
  {
   "cell_type": "code",
   "execution_count": 21,
   "id": "231ee624",
   "metadata": {},
   "outputs": [],
   "source": [
    "pf = PolynomialFeatures()"
   ]
  },
  {
   "cell_type": "code",
   "execution_count": 22,
   "id": "6a72ec8a",
   "metadata": {},
   "outputs": [
    {
     "data": {
      "text/plain": [
       "array([[  1.,   1.,   1.],\n",
       "       [  1.,   2.,   4.],\n",
       "       [  1.,   3.,   9.],\n",
       "       [  1.,   4.,  16.],\n",
       "       [  1.,   5.,  25.],\n",
       "       [  1.,   6.,  36.],\n",
       "       [  1.,   7.,  49.],\n",
       "       [  1.,   8.,  64.],\n",
       "       [  1.,   9.,  81.],\n",
       "       [  1.,  10., 100.],\n",
       "       [  1.,  11., 121.],\n",
       "       [  1.,  12., 144.],\n",
       "       [  1.,  13., 169.],\n",
       "       [  1.,  14., 196.],\n",
       "       [  1.,  15., 225.],\n",
       "       [  1.,  16., 256.],\n",
       "       [  1.,  17., 289.]])"
      ]
     },
     "execution_count": 22,
     "metadata": {},
     "output_type": "execute_result"
    }
   ],
   "source": [
    "x1 = pf.fit_transform(df[['Time']])\n",
    "x1"
   ]
  },
  {
   "cell_type": "code",
   "execution_count": 23,
   "id": "d89ca446",
   "metadata": {},
   "outputs": [],
   "source": [
    "from sklearn.linear_model import LinearRegression"
   ]
  },
  {
   "cell_type": "code",
   "execution_count": 24,
   "id": "0e169ea5",
   "metadata": {},
   "outputs": [],
   "source": [
    "model = LinearRegression()"
   ]
  },
  {
   "cell_type": "code",
   "execution_count": 25,
   "id": "20243386",
   "metadata": {},
   "outputs": [
    {
     "data": {
      "text/plain": [
       "LinearRegression()"
      ]
     },
     "execution_count": 25,
     "metadata": {},
     "output_type": "execute_result"
    }
   ],
   "source": [
    "model.fit(x1,df.speed)"
   ]
  },
  {
   "cell_type": "code",
   "execution_count": 26,
   "id": "47e61efd",
   "metadata": {},
   "outputs": [
    {
     "data": {
      "text/plain": [
       "array([ 0.        , -5.625516  ,  0.43330753])"
      ]
     },
     "execution_count": 26,
     "metadata": {},
     "output_type": "execute_result"
    }
   ],
   "source": [
    "# To check coefficient \n",
    "coef = model.coef_\n",
    "coef"
   ]
  },
  {
   "cell_type": "code",
   "execution_count": 27,
   "id": "9d04e1b4",
   "metadata": {},
   "outputs": [
    {
     "data": {
      "text/plain": [
       "79.66176470588223"
      ]
     },
     "execution_count": 27,
     "metadata": {},
     "output_type": "execute_result"
    }
   ],
   "source": [
    "# To check intercept\n",
    "intercept = model.intercept_\n",
    "intercept"
   ]
  },
  {
   "cell_type": "code",
   "execution_count": 28,
   "id": "35ed86a4",
   "metadata": {},
   "outputs": [
    {
     "data": {
      "text/plain": [
       "array([ 1.        ,  1.10738255,  1.2147651 ,  1.32214765,  1.4295302 ,\n",
       "        1.53691275,  1.6442953 ,  1.75167785,  1.8590604 ,  1.96644295,\n",
       "        2.0738255 ,  2.18120805,  2.2885906 ,  2.39597315,  2.5033557 ,\n",
       "        2.61073826,  2.71812081,  2.82550336,  2.93288591,  3.04026846,\n",
       "        3.14765101,  3.25503356,  3.36241611,  3.46979866,  3.57718121,\n",
       "        3.68456376,  3.79194631,  3.89932886,  4.00671141,  4.11409396,\n",
       "        4.22147651,  4.32885906,  4.43624161,  4.54362416,  4.65100671,\n",
       "        4.75838926,  4.86577181,  4.97315436,  5.08053691,  5.18791946,\n",
       "        5.29530201,  5.40268456,  5.51006711,  5.61744966,  5.72483221,\n",
       "        5.83221477,  5.93959732,  6.04697987,  6.15436242,  6.26174497,\n",
       "        6.36912752,  6.47651007,  6.58389262,  6.69127517,  6.79865772,\n",
       "        6.90604027,  7.01342282,  7.12080537,  7.22818792,  7.33557047,\n",
       "        7.44295302,  7.55033557,  7.65771812,  7.76510067,  7.87248322,\n",
       "        7.97986577,  8.08724832,  8.19463087,  8.30201342,  8.40939597,\n",
       "        8.51677852,  8.62416107,  8.73154362,  8.83892617,  8.94630872,\n",
       "        9.05369128,  9.16107383,  9.26845638,  9.37583893,  9.48322148,\n",
       "        9.59060403,  9.69798658,  9.80536913,  9.91275168, 10.02013423,\n",
       "       10.12751678, 10.23489933, 10.34228188, 10.44966443, 10.55704698,\n",
       "       10.66442953, 10.77181208, 10.87919463, 10.98657718, 11.09395973,\n",
       "       11.20134228, 11.30872483, 11.41610738, 11.52348993, 11.63087248,\n",
       "       11.73825503, 11.84563758, 11.95302013, 12.06040268, 12.16778523,\n",
       "       12.27516779, 12.38255034, 12.48993289, 12.59731544, 12.70469799,\n",
       "       12.81208054, 12.91946309, 13.02684564, 13.13422819, 13.24161074,\n",
       "       13.34899329, 13.45637584, 13.56375839, 13.67114094, 13.77852349,\n",
       "       13.88590604, 13.99328859, 14.10067114, 14.20805369, 14.31543624,\n",
       "       14.42281879, 14.53020134, 14.63758389, 14.74496644, 14.85234899,\n",
       "       14.95973154, 15.06711409, 15.17449664, 15.28187919, 15.38926174,\n",
       "       15.4966443 , 15.60402685, 15.7114094 , 15.81879195, 15.9261745 ,\n",
       "       16.03355705, 16.1409396 , 16.24832215, 16.3557047 , 16.46308725,\n",
       "       16.5704698 , 16.67785235, 16.7852349 , 16.89261745, 17.        ])"
      ]
     },
     "execution_count": 28,
     "metadata": {},
     "output_type": "execute_result"
    }
   ],
   "source": [
    "line = np.linspace(1,17,150)\n",
    "line"
   ]
  },
  {
   "cell_type": "code",
   "execution_count": 29,
   "id": "089e860e",
   "metadata": {},
   "outputs": [],
   "source": [
    "x = np.array(x)"
   ]
  },
  {
   "cell_type": "code",
   "execution_count": 30,
   "id": "08eccd03",
   "metadata": {},
   "outputs": [
    {
     "data": {
      "text/plain": [
       "array([ 74.46955624,  73.9635298 ,  73.4674963 ,  72.98145576,\n",
       "        72.50540816,  72.03935351,  71.58329181,  71.13722306,\n",
       "        70.70114726,  70.2750644 ,  69.8589745 ,  69.45287754,\n",
       "        69.05677354,  68.67066248,  68.29454437,  67.92841921,\n",
       "        67.572287  ,  67.22614774,  66.89000142,  66.56384806,\n",
       "        66.24768764,  65.94152017,  65.64534565,  65.35916409,\n",
       "        65.08297546,  64.81677979,  64.56057707,  64.3143673 ,\n",
       "        64.07815047,  63.85192659,  63.63569567,  63.42945769,\n",
       "        63.23321266,  63.04696057,  62.87070144,  62.70443526,\n",
       "        62.54816202,  62.40188174,  62.2655944 ,  62.13930001,\n",
       "        62.02299857,  61.91669008,  61.82037454,  61.73405195,\n",
       "        61.6577223 ,  61.59138561,  61.53504186,  61.48869107,\n",
       "        61.45233322,  61.42596832,  61.40959637,  61.40321736,\n",
       "        61.40683131,  61.42043821,  61.44403805,  61.47763084,\n",
       "        61.52121659,  61.57479528,  61.63836692,  61.7119315 ,\n",
       "        61.79548904,  61.88903953,  61.99258296,  62.10611935,\n",
       "        62.22964868,  62.36317096,  62.50668619,  62.66019437,\n",
       "        62.8236955 ,  62.99718958,  63.1806766 ,  63.37415658,\n",
       "        63.5776295 ,  63.79109537,  64.01455419,  64.24800596,\n",
       "        64.49145068,  64.74488835,  65.00831897,  65.28174253,\n",
       "        65.56515905,  65.85856851,  66.16197092,  66.47536628,\n",
       "        66.79875459,  67.13213585,  67.47551006,  67.82887721,\n",
       "        68.19223732,  68.56559037,  68.94893637,  69.34227532,\n",
       "        69.74560723,  70.15893207,  70.58224987,  71.01556062,\n",
       "        71.45886431,  71.91216096,  72.37545055,  72.84873309,\n",
       "        73.33200859,  73.82527703,  74.32853841,  74.84179275,\n",
       "        75.36504004,  75.89828027,  76.44151346,  76.99473959,\n",
       "        77.55795867,  78.1311707 ,  78.71437568,  79.30757361,\n",
       "        79.91076449,  80.52394831,  81.14712509,  81.78029481,\n",
       "        82.42345748,  83.0766131 ,  83.73976167,  84.41290319,\n",
       "        85.09603766,  85.78916508,  86.49228544,  87.20539876,\n",
       "        87.92850502,  88.66160423,  89.40469639,  90.1577815 ,\n",
       "        90.92085956,  91.69393057,  92.47699452,  93.27005143,\n",
       "        94.07310128,  94.88614408,  95.70917984,  96.54220854,\n",
       "        97.38523019,  98.23824478,  99.10125233,  99.97425283,\n",
       "       100.85724627, 101.75023266, 102.65321201, 103.5661843 ,\n",
       "       104.48914954, 105.42210773, 106.36505886, 107.31800295,\n",
       "       108.28093998, 109.25386997])"
      ]
     },
     "execution_count": 30,
     "metadata": {},
     "output_type": "execute_result"
    }
   ],
   "source": [
    "y_predicted = intercept + line*coef[1] + coef[2]*line**2\n",
    "y_predicted "
   ]
  },
  {
   "cell_type": "code",
   "execution_count": 31,
   "id": "727ebd4a",
   "metadata": {},
   "outputs": [
    {
     "data": {
      "image/png": "[encoded data removed]",
      "text/plain": [
       "<Figure size 432x288 with 1 Axes>"
      ]
     },
     "metadata": {
      "needs_background": "light"
     },
     "output_type": "display_data"
    }
   ],
   "source": [
    "# To plot scatter diagram (logistic regression)\n",
    "plt.scatter(x,y)\n",
    "plt.plot(line,y_predicted, color ='m')\n",
    "plt.show()"
   ]
  },
  {
   "cell_type": "code",
   "execution_count": 32,
   "id": "d743a84a",
   "metadata": {},
   "outputs": [
    {
     "data": {
      "text/plain": [
       "array([ 74.46955624,  70.14396285,  66.68498452,  64.09262126,\n",
       "        62.36687307,  61.50773994,  61.51522188,  62.38931889,\n",
       "        64.13003096,  66.7373581 ,  70.21130031,  74.55185759,\n",
       "        79.75902993,  85.83281734,  92.77321981, 100.58023736,\n",
       "       109.25386997])"
      ]
     },
     "execution_count": 32,
     "metadata": {},
     "output_type": "execute_result"
    }
   ],
   "source": [
    "y_pred = model.predict(x1)\n",
    "y_pred"
   ]
  },
  {
   "cell_type": "code",
   "execution_count": 33,
   "id": "cf45cfc3",
   "metadata": {},
   "outputs": [
    {
     "data": {
      "text/plain": [
       "0.7187056690952769"
      ]
     },
     "execution_count": 33,
     "metadata": {},
     "output_type": "execute_result"
    }
   ],
   "source": [
    "# To check score(accuracy) is correct\n",
    "model.score(x1, df['speed'])"
   ]
  }
 ],
 "metadata": {
  "kernelspec": {
   "display_name": "Python 3 (ipykernel)",
   "language": "python",
   "name": "python3"
  },
  "language_info": {
   "codemirror_mode": {
    "name": "ipython",
    "version": 3
   },
   "file_extension": ".py",
   "mimetype": "text/x-python",
   "name": "python",
   "nbconvert_exporter": "python",
   "pygments_lexer": "ipython3",
   "version": "3.9.12"
  }
 },
 "nbformat": 4,
 "nbformat_minor": 5
}
